{
 "cells": [
  {
   "cell_type": "code",
   "execution_count": 1,
   "metadata": {},
   "outputs": [],
   "source": [
    "import pandas as pd\n",
    "import numpy as np\n",
    "import random\n",
    "import matplotlib.pyplot as plt\n",
    "import seaborn as sns\n",
    "%matplotlib inline\n",
    "pd.set_option('display.max_columns', None)\n",
    "from sklearn.metrics import confusion_matrix, classification_report\n",
    "from imblearn.over_sampling import RandomOverSampler\n",
    "from sklearn.tree import DecisionTreeClassifier\n",
    "from sklearn.ensemble import RandomForestClassifier\n",
    "from sklearn import metrics\n",
    "from sklearn.model_selection import RandomizedSearchCV, cross_val_score\n",
    "from sklearn.preprocessing import StandardScaler\n",
    "import pickle"
   ]
  },
  {
   "cell_type": "code",
   "execution_count": 2,
   "metadata": {},
   "outputs": [],
   "source": [
    "#import data and define test and train datasets\n",
    "test = pd.read_pickle('test.pkl')\n",
    "train = pd.read_pickle('train.pkl')\n",
    "\n",
    "selected_features1 = train.loc[:,\"exchange_NASDAQ\":\"location_Wisconsin; U.S.A\"]\n",
    "selected_features2 = train.loc[:, \"ncfbus_abs\":\"ncfo_io\"]\n",
    "selected_features3 = train.loc[:, [\"assets\", \"capex\", \"liabilities\", \"debtusd\", \"ebitdausd\", \"netinccmnusd\", \n",
    "                                  \"equityusd\", \"revenueusd\", \"cashnequsd\", \"marketcap\", \"ev\"]]\n",
    "selected_features_j = selected_features1.join(selected_features2)\n",
    "selected_features = selected_features_j.join(selected_features3)\n",
    "\n",
    "X_train = selected_features\n",
    "y_train = train[\"firm\"]\n",
    "\n",
    "selected_features1 = test.loc[:,\"exchange_NASDAQ\":\"location_Wisconsin; U.S.A\"]\n",
    "selected_features2 = test.loc[:, \"ncfbus_abs\":\"ncfo_io\"]\n",
    "selected_features3 = test.loc[:, [\"assets\", \"capex\", \"liabilities\", \"debtusd\", \"ebitdausd\", \"netinccmnusd\", \n",
    "                                  \"equityusd\", \"revenueusd\", \"cashnequsd\", \"marketcap\", \"ev\"]]\n",
    "selected_features_j = selected_features1.join(selected_features2)\n",
    "selected_features = selected_features_j.join(selected_features3)\n",
    "\n",
    "X_test = selected_features\n",
    "y_test = test[\"firm\"]"
   ]
  },
  {
   "cell_type": "code",
   "execution_count": null,
   "metadata": {},
   "outputs": [],
   "source": [
    "#scale data\n",
    "scaler = StandardScaler()\n",
    "X_train = scaler.fit_transform(X_train)\n",
    "X_test = scaler.transform(X_test)"
   ]
  },
  {
   "cell_type": "code",
   "execution_count": 4,
   "metadata": {},
   "outputs": [
    {
     "name": "stdout",
     "output_type": "stream",
     "text": [
      "0.834640522875817\n",
      "0.8694516971279374\n"
     ]
    }
   ],
   "source": [
    "#fit, cross validate model, print accuracy scores\n",
    "decisiontree = DecisionTreeClassifier(max_depth=4)\n",
    "decisiontree.fit(X_train, y_train)\n",
    "print(np.average(cross_val_score(decisiontree, X_train, y_train, cv=5)))\n",
    "print(decisiontree.score(X_test, y_test))"
   ]
  },
  {
   "cell_type": "code",
   "execution_count": 5,
   "metadata": {},
   "outputs": [
    {
     "name": "stdout",
     "output_type": "stream",
     "text": [
      "Classification Report:\n",
      "              precision    recall  f1-score   support\n",
      "\n",
      "       Big 4       0.89      0.90      0.89       463\n",
      "       Other       0.84      0.83      0.83       303\n",
      "\n",
      "    accuracy                           0.87       766\n",
      "   macro avg       0.86      0.86      0.86       766\n",
      "weighted avg       0.87      0.87      0.87       766\n",
      "\n"
     ]
    }
   ],
   "source": [
    "#view classification report\n",
    "y_pred_test = decisiontree.predict(X_test)\n",
    "result1 = classification_report(y_test, y_pred_test)\n",
    "print(\"Classification Report:\",)\n",
    "print(result1)"
   ]
  },
  {
   "cell_type": "code",
   "execution_count": 6,
   "metadata": {},
   "outputs": [
    {
     "data": {
      "image/png": "[encoded data removed]",
      "text/plain": [
       "<Figure size 480x320 with 2 Axes>"
      ]
     },
     "metadata": {
      "needs_background": "light"
     },
     "output_type": "display_data"
    }
   ],
   "source": [
    "# Print confusion matrix \n",
    "dt_confusion = confusion_matrix(y_test, y_pred_test)\n",
    "plt.figure(dpi=80)\n",
    "sns.heatmap(dt_confusion, cmap=plt.cm.Blues, annot=True, square=True, fmt='g',\n",
    "           xticklabels=['Big 4', 'Other'],\n",
    "           yticklabels=['Big 4', 'Other'])\n",
    "\n",
    "plt.xlabel('Predicted')\n",
    "plt.ylabel('Actual')\n",
    "plt.title('Decision Tree Confusion Matrix');"
   ]
  },
  {
   "cell_type": "code",
   "execution_count": 7,
   "metadata": {},
   "outputs": [
    {
     "data": {
      "image/png": "[encoded data removed]",
      "text/plain": [
       "<Figure size 432x288 with 1 Axes>"
      ]
     },
     "metadata": {
      "needs_background": "light"
     },
     "output_type": "display_data"
    }
   ],
   "source": [
    "#view ROC curve\n",
    "metrics.plot_roc_curve(decisiontree, X_test, y_test)\n",
    "plt.show()"
   ]
  },
  {
   "cell_type": "code",
   "execution_count": null,
   "metadata": {},
   "outputs": [],
   "source": [
    "filename = 'decisiontree.pkl'\n",
    "pickle.dump(decisiontree, open(filename, 'wb'))"
   ]
  }
 ],
 "metadata": {
  "kernelspec": {
   "display_name": "Python 3",
   "language": "python",
   "name": "python3"
  },
  "language_info": {
   "codemirror_mode": {
    "name": "ipython",
    "version": 3
   },
   "file_extension": ".py",
   "mimetype": "text/x-python",
   "name": "python",
   "nbconvert_exporter": "python",
   "pygments_lexer": "ipython3",
   "version": "3.8.6"
  }
 },
 "nbformat": 4,
 "nbformat_minor": 4
}
