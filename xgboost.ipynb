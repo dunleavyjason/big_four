{
 "cells": [
  {
   "cell_type": "code",
   "execution_count": 1,
   "metadata": {},
   "outputs": [],
   "source": [
    "import pandas as pd\n",
    "import numpy as np\n",
    "import random\n",
    "import matplotlib.pyplot as plt\n",
    "import seaborn as sns\n",
    "%matplotlib inline\n",
    "pd.set_option('display.max_columns', None)\n",
    "from sklearn.metrics import confusion_matrix, classification_report\n",
    "from imblearn.over_sampling import RandomOverSampler\n",
    "from sklearn.preprocessing import StandardScaler\n",
    "from sklearn import metrics\n",
    "from sklearn.model_selection import cross_val_score, train_test_split, StratifiedKFold\n",
    "import xgboost as xgb\n",
    "from sklearn.metrics import accuracy_score\n",
    "import pickle"
   ]
  },
  {
   "cell_type": "code",
   "execution_count": 2,
   "metadata": {},
   "outputs": [],
   "source": [
    "#import data and define test and train datasets, scale data\n",
    "test = pd.read_pickle('test.pkl')\n",
    "train = pd.read_pickle('train.pkl')\n",
    "\n",
    "selected_features1 = train.loc[:,\"exchange_NASDAQ\":\"location_Wisconsin; U.S.A\"]\n",
    "selected_features2 = train.loc[:, \"ncfbus_abs\":\"ncfo_io\"]\n",
    "selected_features3 = train.loc[:, [\"assets\", \"capex\", \"liabilities\", \"debtusd\", \"ebitdausd\", \"netinccmnusd\", \n",
    "                                  \"equityusd\", \"revenueusd\", \"cashnequsd\", \"marketcap\", \"ev\"]]\n",
    "selected_features_j = selected_features1.join(selected_features2)\n",
    "selected_features = selected_features_j.join(selected_features3)\n",
    "\n",
    "X_train = selected_features\n",
    "y_train = train[\"firm\"]\n",
    "\n",
    "selected_features1 = test.loc[:,\"exchange_NASDAQ\":\"location_Wisconsin; U.S.A\"]\n",
    "selected_features2 = test.loc[:, \"ncfbus_abs\":\"ncfo_io\"]\n",
    "selected_features3 = test.loc[:, [\"assets\", \"capex\", \"liabilities\", \"debtusd\", \"ebitdausd\", \"netinccmnusd\", \n",
    "                                  \"equityusd\", \"revenueusd\", \"cashnequsd\", \"marketcap\", \"ev\"]]\n",
    "selected_features_j = selected_features1.join(selected_features2)\n",
    "selected_features = selected_features_j.join(selected_features3)\n",
    "\n",
    "X_test = selected_features\n",
    "y_test = test[\"firm\"]\n",
    "\n",
    "scaler = StandardScaler()\n",
    "X_train = scaler.fit_transform(X_train)\n",
    "X_test = scaler.transform(X_test)"
   ]
  },
  {
   "cell_type": "code",
   "execution_count": 3,
   "metadata": {},
   "outputs": [],
   "source": [
    "#create validation set\n",
    "X_train, X_val, y_train, y_val = train_test_split(X_train, y_train, test_size=.25, random_state=3)"
   ]
  },
  {
   "cell_type": "code",
   "execution_count": 4,
   "metadata": {
    "scrolled": false
   },
   "outputs": [
    {
     "name": "stderr",
     "output_type": "stream",
     "text": [
      "/Users/dunleavyjason/opt/anaconda3/lib/python3.8/site-packages/xgboost/sklearn.py:888: UserWarning: The use of label encoder in XGBClassifier is deprecated and will be removed in a future release. To remove this warning, do the following: 1) Pass option use_label_encoder=False when constructing XGBClassifier object; and 2) Encode your labels (y) as integers starting with 0, i.e. 0, 1, 2, ..., [num_class - 1].\n",
      "  warnings.warn(label_encoder_deprecation_msg, UserWarning)\n"
     ]
    },
    {
     "data": {
      "text/plain": [
       "0.8798955613577023"
      ]
     },
     "execution_count": 4,
     "metadata": {},
     "output_type": "execute_result"
    }
   ],
   "source": [
    "#fit and evaluate model\n",
    "gbm = xgb.XGBClassifier( \n",
    "        n_estimators=30000,\n",
    "        max_depth=4,\n",
    "        objective='binary:logistic', \n",
    "        use_label_encoder=True,\n",
    "        learning_rate=.05, \n",
    "        subsample=.8,\n",
    "        min_child_weight=3,\n",
    "        colsample_bytree=.8)\n",
    "\n",
    "eval_set=[(X_train,y_train),(X_val,y_val)]\n",
    "\n",
    "fit_model = gbm.fit(\n",
    "                X_train, y_train, \n",
    "                eval_set=eval_set,\n",
    "                eval_metric='error', \n",
    "                early_stopping_rounds=50,\n",
    "                verbose=False)\n",
    "\n",
    "accuracy_score(y_test, gbm.predict(X_test, ntree_limit=gbm.best_ntree_limit))"
   ]
  },
  {
   "cell_type": "code",
   "execution_count": 5,
   "metadata": {},
   "outputs": [
    {
     "name": "stdout",
     "output_type": "stream",
     "text": [
      "Classification Report:\n",
      "              precision    recall  f1-score   support\n",
      "\n",
      "       Big 4       0.87      0.94      0.90       463\n",
      "       Other       0.90      0.79      0.84       303\n",
      "\n",
      "    accuracy                           0.88       766\n",
      "   macro avg       0.88      0.86      0.87       766\n",
      "weighted avg       0.88      0.88      0.88       766\n",
      "\n"
     ]
    }
   ],
   "source": [
    "#view classification report\n",
    "y_pred_test = fit_model.predict(X_test)\n",
    "result1 = classification_report(y_test, y_pred_test)\n",
    "print(\"Classification Report:\",)\n",
    "print(result1)"
   ]
  },
  {
   "cell_type": "code",
   "execution_count": 6,
   "metadata": {},
   "outputs": [
    {
     "data": {
      "image/png": "[encoded data removed]",
      "text/plain": [
       "<Figure size 480x320 with 2 Axes>"
      ]
     },
     "metadata": {
      "needs_background": "light"
     },
     "output_type": "display_data"
    }
   ],
   "source": [
    "#view confusion matrix\n",
    "confusion = confusion_matrix(y_test, y_pred_test)\n",
    "plt.figure(dpi=80)\n",
    "sns.heatmap(confusion, cmap=plt.cm.Blues, annot=True, square=True, fmt='g',\n",
    "           xticklabels=['Big 4', 'Other'],\n",
    "           yticklabels=['Big 4', 'Other'])\n",
    "\n",
    "plt.xlabel('Predicted')\n",
    "plt.ylabel('Actual')\n",
    "plt.title('XGBoost Confusion Matrix');"
   ]
  },
  {
   "cell_type": "code",
   "execution_count": 7,
   "metadata": {},
   "outputs": [
    {
     "data": {
      "image/png": "[encoded data removed]",
      "text/plain": [
       "<Figure size 432x288 with 1 Axes>"
      ]
     },
     "metadata": {
      "needs_background": "light"
     },
     "output_type": "display_data"
    }
   ],
   "source": [
    "#view roc curve\n",
    "metrics.plot_roc_curve(fit_model, X_test, y_test)\n",
    "plt.show()"
   ]
  },
  {
   "cell_type": "code",
   "execution_count": 9,
   "metadata": {},
   "outputs": [],
   "source": [
    "filename = 'xgboost.pkl'\n",
    "pickle.dump(fit_model, open(filename, 'wb'))"
   ]
  }
 ],
 "metadata": {
  "kernelspec": {
   "display_name": "Python 3",
   "language": "python",
   "name": "python3"
  },
  "language_info": {
   "codemirror_mode": {
    "name": "ipython",
    "version": 3
   },
   "file_extension": ".py",
   "mimetype": "text/x-python",
   "name": "python",
   "nbconvert_exporter": "python",
   "pygments_lexer": "ipython3",
   "version": "3.8.6"
  }
 },
 "nbformat": 4,
 "nbformat_minor": 4
}
