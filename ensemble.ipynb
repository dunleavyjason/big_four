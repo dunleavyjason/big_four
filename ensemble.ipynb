{
 "cells": [
  {
   "cell_type": "code",
   "execution_count": 1,
   "metadata": {},
   "outputs": [],
   "source": [
    "import pandas as pd\n",
    "import numpy as np\n",
    "import random\n",
    "import matplotlib.pyplot as plt\n",
    "import seaborn as sns\n",
    "%matplotlib inline\n",
    "pd.set_option('display.max_columns', None)\n",
    "from sklearn.metrics import confusion_matrix, classification_report\n",
    "from sklearn import metrics\n",
    "from sklearn.model_selection import train_test_split, cross_val_score\n",
    "from sklearn.preprocessing import StandardScaler\n",
    "from sklearn.neighbors import KNeighborsClassifier\n",
    "from sklearn.linear_model import LogisticRegression\n",
    "from sklearn.naive_bayes import BernoulliNB\n",
    "from sklearn.tree import DecisionTreeClassifier\n",
    "from sklearn.ensemble import VotingClassifier\n",
    "from sklearn.metrics import accuracy_score, make_scorer\n",
    "import xgboost as xgb\n",
    "import pickle"
   ]
  },
  {
   "cell_type": "code",
   "execution_count": 2,
   "metadata": {},
   "outputs": [],
   "source": [
    "#import data and define test and train datasets\n",
    "test = pd.read_pickle('test.pkl')\n",
    "train = pd.read_pickle('train.pkl')\n",
    "\n",
    "selected_features1 = train.loc[:,\"exchange_NASDAQ\":\"location_Wisconsin; U.S.A\"]\n",
    "selected_features2 = train.loc[:, \"ncfbus_abs\":\"ncfo_io\"]\n",
    "selected_features3 = train.loc[:, [\"assets\", \"capex\", \"liabilities\", \"debtusd\", \"ebitdausd\", \"netinccmnusd\", \n",
    "                                  \"equityusd\", \"revenueusd\", \"cashnequsd\", \"marketcap\", \"ev\"]]\n",
    "selected_features_j = selected_features1.join(selected_features2)\n",
    "selected_features = selected_features_j.join(selected_features3)\n",
    "\n",
    "X_train = selected_features\n",
    "y_train = train[\"firm\"]\n",
    "\n",
    "selected_features1 = test.loc[:,\"exchange_NASDAQ\":\"location_Wisconsin; U.S.A\"]\n",
    "selected_features2 = test.loc[:, \"ncfbus_abs\":\"ncfo_io\"]\n",
    "selected_features3 = test.loc[:, [\"assets\", \"capex\", \"liabilities\", \"debtusd\", \"ebitdausd\", \"netinccmnusd\", \n",
    "                                  \"equityusd\", \"revenueusd\", \"cashnequsd\", \"marketcap\", \"ev\"]]\n",
    "selected_features_j = selected_features1.join(selected_features2)\n",
    "selected_features = selected_features_j.join(selected_features3)\n",
    "\n",
    "X_test = selected_features\n",
    "y_test = test[\"firm\"]"
   ]
  },
  {
   "cell_type": "code",
   "execution_count": 3,
   "metadata": {},
   "outputs": [],
   "source": [
    "#scale data\n",
    "scaler = StandardScaler()\n",
    "X_train = scaler.fit_transform(X_train)\n",
    "X_test = scaler.transform(X_test)"
   ]
  },
  {
   "cell_type": "code",
   "execution_count": 4,
   "metadata": {},
   "outputs": [],
   "source": [
    "# load pre-trained/tuned models\n",
    "\n",
    "model_names = [\"decisiontree\", \"knn\", \"randomforest\", \"logistic\", \"xgboost\"]\n",
    "\n",
    "for model_name in model_names:\n",
    "    with open(f\"{model_name}.pkl\", \"rb\") as pfile:\n",
    "        exec(f\"{model_name} = pickle.load(pfile)\")\n",
    "\n",
    "model_vars = [eval(n) for n in model_names]\n",
    "model_list = list(zip(model_names, model_vars))"
   ]
  },
  {
   "cell_type": "code",
   "execution_count": 5,
   "metadata": {},
   "outputs": [
    {
     "name": "stdout",
     "output_type": "stream",
     "text": [
      "decisiontree score: 0.8694516971279374\n",
      "knn score: 0.6710182767624021\n",
      "randomforest score: 0.8838120104438643\n",
      "logistic score: 0.7963446475195822\n",
      "xgboost score: 0.8798955613577023\n"
     ]
    }
   ],
   "source": [
    "#view scores\n",
    "for model_name in model_names:\n",
    "    curr_model = eval(model_name)\n",
    "    print(f'{model_name} score: {curr_model.score(X_test, y_test)}')"
   ]
  },
  {
   "cell_type": "code",
   "execution_count": 6,
   "metadata": {},
   "outputs": [
    {
     "name": "stdout",
     "output_type": "stream",
     "text": [
      "0.8591503267973856\n"
     ]
    }
   ],
   "source": [
    "#fit voting classifier model - hard\n",
    "voting_classifer_hard = VotingClassifier(estimators=model_list,\n",
    "                                    voting='hard', \n",
    "                                    n_jobs=-1)\n",
    "voting_classifer_hard.fit(X_train, y_train)\n",
    "print(np.average(cross_val_score(voting_classifer_hard, X_train, y_train, cv=5)))"
   ]
  },
  {
   "cell_type": "code",
   "execution_count": 7,
   "metadata": {},
   "outputs": [
    {
     "data": {
      "text/plain": [
       "0.8759791122715405"
      ]
     },
     "execution_count": 7,
     "metadata": {},
     "output_type": "execute_result"
    }
   ],
   "source": [
    "#view accuracy score\n",
    "y_pred = voting_classifer_hard.predict(X_test)\n",
    "accuracy_score(y_test, y_pred)"
   ]
  },
  {
   "cell_type": "code",
   "execution_count": 8,
   "metadata": {},
   "outputs": [
    {
     "name": "stdout",
     "output_type": "stream",
     "text": [
      "Classification Report:\n",
      "              precision    recall  f1-score   support\n",
      "\n",
      "       Big 4       0.87      0.94      0.90       463\n",
      "       Other       0.89      0.78      0.83       303\n",
      "\n",
      "    accuracy                           0.88       766\n",
      "   macro avg       0.88      0.86      0.87       766\n",
      "weighted avg       0.88      0.88      0.87       766\n",
      "\n"
     ]
    }
   ],
   "source": [
    "#view classification report\n",
    "result1 = classification_report(y_test, y_pred)\n",
    "print(\"Classification Report:\",)\n",
    "print(result1)"
   ]
  },
  {
   "cell_type": "code",
   "execution_count": 9,
   "metadata": {},
   "outputs": [
    {
     "data": {
      "image/png": "[encoded data removed]",
      "text/plain": [
       "<Figure size 480x320 with 2 Axes>"
      ]
     },
     "metadata": {
      "needs_background": "light"
     },
     "output_type": "display_data"
    }
   ],
   "source": [
    "#view confusion matrix\n",
    "confusion = confusion_matrix(y_test, y_pred)\n",
    "plt.figure(dpi=80)\n",
    "sns.heatmap(confusion, cmap=plt.cm.Blues, annot=True, square=True, fmt='g',\n",
    "           xticklabels=['Big 4', 'Other'],\n",
    "           yticklabels=['Big 4', 'Other'])\n",
    "\n",
    "plt.xlabel('Predicted')\n",
    "plt.ylabel('Actual')\n",
    "plt.title('Voting Classifier Hard - Confusion Matrix');"
   ]
  },
  {
   "cell_type": "code",
   "execution_count": 11,
   "metadata": {},
   "outputs": [],
   "source": [
    "filename = 'voting_classifier_hard.pkl'\n",
    "pickle.dump(voting_classifer_hard, open(filename, 'wb'))"
   ]
  },
  {
   "cell_type": "code",
   "execution_count": 12,
   "metadata": {},
   "outputs": [
    {
     "name": "stdout",
     "output_type": "stream",
     "text": [
      "0.8565359477124183\n"
     ]
    }
   ],
   "source": [
    "#fit voting classifier model - soft\n",
    "voting_classifer_soft = VotingClassifier(estimators=model_list,\n",
    "                                    voting='soft', \n",
    "                                    n_jobs=-1)\n",
    "voting_classifer_soft.fit(X_train, y_train)\n",
    "voting_classifer_soft.score(X_train, y_train)\n",
    "print(np.average(cross_val_score(voting_classifer_soft, X_train, y_train, cv=5)))"
   ]
  },
  {
   "cell_type": "code",
   "execution_count": 13,
   "metadata": {},
   "outputs": [
    {
     "data": {
      "text/plain": [
       "0.8746736292428199"
      ]
     },
     "execution_count": 13,
     "metadata": {},
     "output_type": "execute_result"
    }
   ],
   "source": [
    "#view accuracy score\n",
    "y_pred = voting_classifer_soft.predict(X_test)\n",
    "accuracy_score(y_test, y_pred)"
   ]
  },
  {
   "cell_type": "code",
   "execution_count": 14,
   "metadata": {},
   "outputs": [
    {
     "name": "stdout",
     "output_type": "stream",
     "text": [
      "Classification Report:\n",
      "              precision    recall  f1-score   support\n",
      "\n",
      "       Big 4       0.86      0.94      0.90       463\n",
      "       Other       0.90      0.77      0.83       303\n",
      "\n",
      "    accuracy                           0.87       766\n",
      "   macro avg       0.88      0.86      0.87       766\n",
      "weighted avg       0.88      0.87      0.87       766\n",
      "\n"
     ]
    }
   ],
   "source": [
    "#view classification report\n",
    "result1 = classification_report(y_test, y_pred)\n",
    "print(\"Classification Report:\",)\n",
    "print(result1)"
   ]
  },
  {
   "cell_type": "code",
   "execution_count": 15,
   "metadata": {},
   "outputs": [
    {
     "data": {
      "image/png": "[encoded data removed]",
      "text/plain": [
       "<Figure size 480x320 with 2 Axes>"
      ]
     },
     "metadata": {
      "needs_background": "light"
     },
     "output_type": "display_data"
    }
   ],
   "source": [
    "#view confusion matrix\n",
    "confusion = confusion_matrix(y_test, y_pred)\n",
    "plt.figure(dpi=80)\n",
    "sns.heatmap(confusion, cmap=plt.cm.Blues, annot=True, square=True, fmt='g',\n",
    "           xticklabels=['Big 4', 'Other'],\n",
    "           yticklabels=['Big 4', 'Other'])\n",
    "\n",
    "plt.xlabel('Predicted')\n",
    "plt.ylabel('Actual')\n",
    "plt.title('Voting Classifier Soft - Confusion Matrix');"
   ]
  },
  {
   "cell_type": "code",
   "execution_count": 16,
   "metadata": {},
   "outputs": [],
   "source": [
    "filename = 'voting_classifier_soft.pkl'\n",
    "pickle.dump(voting_classifer_soft, open(filename, 'wb'))"
   ]
  },
  {
   "cell_type": "code",
   "execution_count": null,
   "metadata": {},
   "outputs": [],
   "source": []
  }
 ],
 "metadata": {
  "kernelspec": {
   "display_name": "Python 3",
   "language": "python",
   "name": "python3"
  },
  "language_info": {
   "codemirror_mode": {
    "name": "ipython",
    "version": 3
   },
   "file_extension": ".py",
   "mimetype": "text/x-python",
   "name": "python",
   "nbconvert_exporter": "python",
   "pygments_lexer": "ipython3",
   "version": "3.8.6"
  }
 },
 "nbformat": 4,
 "nbformat_minor": 4
}
