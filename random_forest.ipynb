{
 "cells": [
  {
   "cell_type": "code",
   "execution_count": 1,
   "metadata": {},
   "outputs": [],
   "source": [
    "import pandas as pd\n",
    "import numpy as np\n",
    "import random\n",
    "import matplotlib.pyplot as plt\n",
    "import seaborn as sns\n",
    "%matplotlib inline\n",
    "pd.set_option('display.max_columns', None)\n",
    "from sklearn.metrics import confusion_matrix, classification_report\n",
    "from imblearn.over_sampling import RandomOverSampler\n",
    "from sklearn.tree import DecisionTreeClassifier\n",
    "from sklearn.ensemble import RandomForestClassifier\n",
    "from sklearn import metrics\n",
    "from sklearn.model_selection import RandomizedSearchCV, cross_val_score\n",
    "from sklearn.preprocessing import StandardScaler\n",
    "import pickle"
   ]
  },
  {
   "cell_type": "code",
   "execution_count": 2,
   "metadata": {},
   "outputs": [],
   "source": [
    "#import data and define test and train datasets\n",
    "test = pd.read_pickle('test.pkl')\n",
    "train = pd.read_pickle('train.pkl')\n",
    "\n",
    "selected_features1 = train.loc[:,\"exchange_NASDAQ\":\"location_Wisconsin; U.S.A\"]\n",
    "selected_features2 = train.loc[:, \"ncfbus_abs\":\"ncfo_io\"]\n",
    "selected_features3 = train.loc[:, [\"assets\", \"capex\", \"liabilities\", \"debtusd\", \"ebitdausd\", \"netinccmnusd\", \n",
    "                                  \"equityusd\", \"revenueusd\", \"cashnequsd\", \"marketcap\", \"ev\"]]\n",
    "selected_features_j = selected_features1.join(selected_features2)\n",
    "selected_features = selected_features_j.join(selected_features3)\n",
    "\n",
    "X_train = selected_features\n",
    "y_train = train[\"firm\"]\n",
    "\n",
    "selected_features1 = test.loc[:,\"exchange_NASDAQ\":\"location_Wisconsin; U.S.A\"]\n",
    "selected_features2 = test.loc[:, \"ncfbus_abs\":\"ncfo_io\"]\n",
    "selected_features3 = test.loc[:, [\"assets\", \"capex\", \"liabilities\", \"debtusd\", \"ebitdausd\", \"netinccmnusd\", \n",
    "                                  \"equityusd\", \"revenueusd\", \"cashnequsd\", \"marketcap\", \"ev\"]]\n",
    "selected_features_j = selected_features1.join(selected_features2)\n",
    "selected_features = selected_features_j.join(selected_features3)\n",
    "\n",
    "X_test = selected_features\n",
    "y_test = test[\"firm\"]"
   ]
  },
  {
   "cell_type": "code",
   "execution_count": 3,
   "metadata": {},
   "outputs": [],
   "source": [
    "#scale data\n",
    "scaler = StandardScaler()\n",
    "X_train = scaler.fit_transform(X_train)\n",
    "X_test = scaler.transform(X_test)"
   ]
  },
  {
   "cell_type": "code",
   "execution_count": 4,
   "metadata": {},
   "outputs": [
    {
     "name": "stdout",
     "output_type": "stream",
     "text": [
      "{'n_estimators': [200, 400, 600, 800, 1000, 1200, 1400, 1600, 1800, 2000], 'max_features': ['auto', 'sqrt'], 'max_depth': [10, 20, 30, 40, 50, 60, 70, 80, 90, 100, 110, None], 'min_samples_split': [2, 5, 10], 'min_samples_leaf': [1, 2, 4], 'bootstrap': [True, False]}\n"
     ]
    }
   ],
   "source": [
    "# Number of trees in random forest\n",
    "n_estimators = [int(x) for x in np.linspace(start = 200, stop = 2000, num = 10)]\n",
    "# Number of features to consider at every split\n",
    "max_features = ['auto', 'sqrt']\n",
    "# Maximum number of levels in tree\n",
    "max_depth = [int(x) for x in np.linspace(10, 110, num = 11)]\n",
    "max_depth.append(None)\n",
    "# Minimum number of samples required to split a node\n",
    "min_samples_split = [2, 5, 10]\n",
    "# Minimum number of samples required at each leaf node\n",
    "min_samples_leaf = [1, 2, 4]\n",
    "# Method of selecting samples for training each tree\n",
    "bootstrap = [True, False]\n",
    "\n",
    "# Create the random grid\n",
    "random_grid = {'n_estimators': n_estimators,\n",
    "               'max_features': max_features,\n",
    "               'max_depth': max_depth,\n",
    "               'min_samples_split': min_samples_split,\n",
    "               'min_samples_leaf': min_samples_leaf,\n",
    "               'bootstrap': bootstrap}\n",
    "print(random_grid)"
   ]
  },
  {
   "cell_type": "code",
   "execution_count": 5,
   "metadata": {},
   "outputs": [
    {
     "name": "stdout",
     "output_type": "stream",
     "text": [
      "Fitting 3 folds for each of 100 candidates, totalling 300 fits\n"
     ]
    },
    {
     "name": "stderr",
     "output_type": "stream",
     "text": [
      "[Parallel(n_jobs=-1)]: Using backend LokyBackend with 8 concurrent workers.\n",
      "[Parallel(n_jobs=-1)]: Done  25 tasks      | elapsed:   29.3s\n",
      "[Parallel(n_jobs=-1)]: Done 146 tasks      | elapsed:  2.5min\n",
      "[Parallel(n_jobs=-1)]: Done 300 out of 300 | elapsed:  5.1min finished\n"
     ]
    },
    {
     "data": {
      "text/plain": [
       "RandomizedSearchCV(cv=3, estimator=RandomForestClassifier(), n_iter=100,\n",
       "                   n_jobs=-1,\n",
       "                   param_distributions={'bootstrap': [True, False],\n",
       "                                        'max_depth': [10, 20, 30, 40, 50, 60,\n",
       "                                                      70, 80, 90, 100, 110,\n",
       "                                                      None],\n",
       "                                        'max_features': ['auto', 'sqrt'],\n",
       "                                        'min_samples_leaf': [1, 2, 4],\n",
       "                                        'min_samples_split': [2, 5, 10],\n",
       "                                        'n_estimators': [200, 400, 600, 800,\n",
       "                                                         1000, 1200, 1400, 1600,\n",
       "                                                         1800, 2000]},\n",
       "                   random_state=42, verbose=2)"
      ]
     },
     "execution_count": 5,
     "metadata": {},
     "output_type": "execute_result"
    }
   ],
   "source": [
    "# Use the random grid to search for best hyperparameters\n",
    "# First create the base model to tune\n",
    "rf = RandomForestClassifier()\n",
    "# Random search of parameters, using 3 fold cross validation, \n",
    "# search across 100 different combinations, and use all available cores\n",
    "rf_random = RandomizedSearchCV(estimator = rf, param_distributions = random_grid, n_iter = 100, cv = 3, verbose=2, random_state=42, n_jobs = -1)\n",
    "# Fit the random search model\n",
    "rf_random.fit(X_train, y_train)"
   ]
  },
  {
   "cell_type": "code",
   "execution_count": 6,
   "metadata": {},
   "outputs": [
    {
     "data": {
      "text/plain": [
       "{'n_estimators': 200,\n",
       " 'min_samples_split': 5,\n",
       " 'min_samples_leaf': 4,\n",
       " 'max_features': 'auto',\n",
       " 'max_depth': 100,\n",
       " 'bootstrap': False}"
      ]
     },
     "execution_count": 6,
     "metadata": {},
     "output_type": "execute_result"
    }
   ],
   "source": [
    "#view best parameters\n",
    "rf_random.best_params_"
   ]
  },
  {
   "cell_type": "code",
   "execution_count": 7,
   "metadata": {},
   "outputs": [
    {
     "name": "stdout",
     "output_type": "stream",
     "text": [
      "0.8513071895424836\n",
      "0.8772845953002611\n"
     ]
    }
   ],
   "source": [
    "#create base model to compare to\n",
    "base_model = RandomForestClassifier(n_estimators = 10, random_state = 41)\n",
    "base_model.fit(X_train, y_train)\n",
    "print(np.average(cross_val_score(base_model, X_train, y_train, cv=5)))\n",
    "print(base_model.score(X_test, y_test))"
   ]
  },
  {
   "cell_type": "code",
   "execution_count": 8,
   "metadata": {},
   "outputs": [
    {
     "name": "stdout",
     "output_type": "stream",
     "text": [
      "0.8637254901960785\n",
      "0.8864229765013055\n"
     ]
    }
   ],
   "source": [
    "#view best model scores from hyperparameter tuning\n",
    "best_random = rf_random.best_estimator_\n",
    "print(rf_random.best_score_)\n",
    "print(rf_random.score(X_test, y_test))"
   ]
  },
  {
   "cell_type": "code",
   "execution_count": 9,
   "metadata": {},
   "outputs": [
    {
     "name": "stdout",
     "output_type": "stream",
     "text": [
      "Classification Report:\n",
      "              precision    recall  f1-score   support\n",
      "\n",
      "       Big 4       0.88      0.95      0.91       463\n",
      "       Other       0.91      0.80      0.85       303\n",
      "\n",
      "    accuracy                           0.89       766\n",
      "   macro avg       0.89      0.87      0.88       766\n",
      "weighted avg       0.89      0.89      0.88       766\n",
      "\n"
     ]
    }
   ],
   "source": [
    "#view classification\n",
    "y_pred_test = best_random.predict(X_test)\n",
    "result1 = classification_report(y_test, y_pred_test)\n",
    "print(\"Classification Report:\")\n",
    "print(result1)"
   ]
  },
  {
   "cell_type": "code",
   "execution_count": 10,
   "metadata": {},
   "outputs": [
    {
     "data": {
      "image/png": "[encoded data removed]",
      "text/plain": [
       "<Figure size 480x320 with 2 Axes>"
      ]
     },
     "metadata": {
      "needs_background": "light"
     },
     "output_type": "display_data"
    }
   ],
   "source": [
    "#view confussion matrix\n",
    "rf_confusion = confusion_matrix(y_test, y_pred_test)\n",
    "plt.figure(dpi=80)\n",
    "sns.heatmap(rf_confusion, cmap=plt.cm.Blues, annot=True, square=True, fmt='g',\n",
    "           xticklabels=['Big 4', 'Other'],\n",
    "           yticklabels=['Big 4', 'Other'])\n",
    "\n",
    "plt.xlabel('Predicted')\n",
    "plt.ylabel('Actual')\n",
    "plt.title('Random Forest Confusion Matrix');"
   ]
  },
  {
   "cell_type": "code",
   "execution_count": 14,
   "metadata": {},
   "outputs": [
    {
     "data": {
      "text/plain": [
       "array(['ev', 'revenueusd', 'ncfo_abs', 'marketcap', 'ebitdausd', 'assets',\n",
       "       'cashnequsd', 'capex', 'equityusd', 'ncfcommon_abs',\n",
       "       'netinccmnusd', 'ncff_abs', 'liabilities', 'debtusd', 'ncfi_abs',\n",
       "       'ncfdebt_abs', 'industry_Banks - Regional', 'ncfbus_abs',\n",
       "       'ncfdiv_abs', 'ncfinv_abs', 'exchange_NYSE',\n",
       "       'industry_Biotechnology', 'exchange_OTC', 'ncfo_io', 'ncff_io',\n",
       "       'ncfcommon_io', 'exchange_NASDAQ', 'ncfinv_io', 'ncfdiv_io',\n",
       "       'ncfbus_io', 'ncfdebt_io', 'location_Texas; U.S.A',\n",
       "       'location_California; U.S.A', 'location_Massachusetts; U.S.A',\n",
       "       'exchange_NYSEMKT', 'ncfi_io', 'industry_Asset Management',\n",
       "       'location_China', 'location_Florida; U.S.A',\n",
       "       'location_New York; U.S.A', 'industry_Software - Application',\n",
       "       'location_Pennsylvania; U.S.A', 'location_Oklahoma; U.S.A',\n",
       "       'industry_Credit Services', 'industry_Oil & Gas E&P',\n",
       "       'location_Illinois; U.S.A',\n",
       "       'industry_Oil & Gas Refining & Marketing',\n",
       "       'industry_Engineering & Construction',\n",
       "       'industry_Furnishings Fixtures & Appliances',\n",
       "       'industry_Apparel Retail', 'location_New Jersey; U.S.A',\n",
       "       'location_Michigan; U.S.A', 'location_Georgia; U.S.A',\n",
       "       'industry_Medical Devices', 'industry_Oil & Gas Midstream',\n",
       "       'location_Virginia; U.S.A', 'industry_REIT - Mortgage',\n",
       "       'location_Ohio; U.S.A', 'location_Indiana; U.S.A',\n",
       "       'industry_Diagnostics & Research', 'location_Colorado; U.S.A',\n",
       "       'industry_Rental & Leasing Services',\n",
       "       'industry_Drug Manufacturers - Specialty & Generic',\n",
       "       'industry_REIT - Retail', 'industry_Software - Infrastructure',\n",
       "       'industry_Oil & Gas Equipment & Services',\n",
       "       'industry_Specialty Chemicals', 'industry_Specialty Retail',\n",
       "       'location_Ireland', 'industry_Semiconductors',\n",
       "       'location_North Carolina; U.S.A', 'location_Mississippi; U.S.A',\n",
       "       'industry_Insurance - Property & Casualty',\n",
       "       'industry_REIT - Residential', 'location_Nevada; U.S.A',\n",
       "       'location_Arizona; U.S.A', 'industry_Communication Equipment',\n",
       "       'industry_Specialty Industrial Machinery',\n",
       "       'industry_Capital Markets', 'location_Maryland; U.S.A',\n",
       "       'location_Utah; U.S.A', 'industry_Packaged Foods',\n",
       "       'location_Washington; U.S.A', 'location_Connecticut; U.S.A',\n",
       "       'industry_Building Products & Equipment',\n",
       "       'industry_Electrical Equipment & Parts',\n",
       "       'location_Missouri; U.S.A', 'industry_Footwear & Accessories',\n",
       "       'industry_Information Technology Services', 'industry_Leisure',\n",
       "       'industry_Aerospace & Defense', 'location_Wisconsin; U.S.A',\n",
       "       'location_Louisiana; U.S.A', 'location_United Kingdom',\n",
       "       'location_Minnesota; U.S.A',\n",
       "       'industry_REIT - Healthcare Facilities',\n",
       "       'industry_Utilities - Regulated Electric', 'industry_Restaurants',\n",
       "       'industry_Drug Manufacturers - General',\n",
       "       'industry_Waste Management', 'industry_Personal Services',\n",
       "       'location_Kentucky; U.S.A',\n",
       "       'industry_Internet Content & Information',\n",
       "       'location_South Carolina; U.S.A', 'location_Tennessee; U.S.A',\n",
       "       'industry_Real Estate - Diversified',\n",
       "       'industry_Real Estate Services', 'industry_Mortgage Finance',\n",
       "       'industry_Telecom Services', 'industry_Trucking',\n",
       "       'industry_Utilities - Regulated Water',\n",
       "       'industry_Specialty Business Services',\n",
       "       'industry_Insurance - Diversified', 'industry_Broadcasting',\n",
       "       'industry_Medical Care Facilities', 'industry_Conglomerates',\n",
       "       'industry_Tools & Accessories',\n",
       "       'industry_Staffing & Employment Services',\n",
       "       'industry_Insurance - Life',\n",
       "       'industry_Scientific & Technical Instruments',\n",
       "       'location_Arkansas; U.S.A', 'industry_REIT - Hotel & Motel',\n",
       "       'industry_Computer Hardware', 'industry_REIT - Diversified',\n",
       "       'industry_Health Information Services', 'location_Montana; U.S.A',\n",
       "       'industry_Education & Training Services', 'location_Maine; U.S.A',\n",
       "       'industry_Auto Parts', 'industry_Discount Stores',\n",
       "       'industry_Farm & Heavy Construction Machinery',\n",
       "       'industry_Medical Instruments & Supplies',\n",
       "       'industry_Beverages - Wineries & Distilleries',\n",
       "       'industry_Resorts & Casinos',\n",
       "       'industry_Security & Protection Services',\n",
       "       'industry_Other Industrial Metals & Mining',\n",
       "       'location_Iowa; U.S.A',\n",
       "       'industry_Semiconductor Equipment & Materials',\n",
       "       'industry_Internet Retail', 'industry_Agricultural Inputs',\n",
       "       'industry_REIT - Office', 'industry_Industrial Distribution',\n",
       "       'location_Bermuda', 'industry_Residential Construction',\n",
       "       'location_North Dakota; U.S.A', 'industry_Recreational Vehicles',\n",
       "       'industry_Apparel Manufacturing', 'industry_Gambling',\n",
       "       'industry_Grocery Stores', 'industry_REIT - Industrial',\n",
       "       'industry_Electronic Components',\n",
       "       'industry_Auto & Truck Dealerships', 'industry_Marine Shipping',\n",
       "       'industry_Utilities - Diversified', 'industry_Consulting Services',\n",
       "       'location_Oregon; U.S.A', 'industry_Household & Personal Products',\n",
       "       'industry_Farm Products', 'location_Rhode Island; U.S.A',\n",
       "       'industry_Paper & Paper Products', 'location_Kansas; U.S.A',\n",
       "       'industry_Financial Data & Stock Exchanges', 'industry_Steel',\n",
       "       'industry_Packaging & Containers',\n",
       "       'industry_Integrated Freight & Logistics', 'industry_Chemicals',\n",
       "       'industry_Airlines', 'industry_Financial Conglomerates',\n",
       "       'location_Quebec; Canada', 'industry_Drug Manufacturers - Major',\n",
       "       'industry_Entertainment', 'location_Puerto Rico',\n",
       "       'industry_Electronics & Computer Distribution',\n",
       "       'industry_Electronic Gaming & Multimedia',\n",
       "       'industry_Diversified Industrials', 'location_Delaware; U.S.A',\n",
       "       'industry_Department Stores', 'industry_Beverages - Brewers',\n",
       "       'location_Virgin Islands; U.S.', 'exchange_NYSEARCA',\n",
       "       'location_Vermont; U.S.A', 'location_United States; U.S.A',\n",
       "       'industry_Airports & Air Services', 'industry_Aluminum',\n",
       "       'industry_Apparel Stores', 'location_Taiwan',\n",
       "       'industry_Auto Manufacturers', 'industry_Banks - Diversified',\n",
       "       'location_Switzerland', 'industry_Beverages - Non-Alcoholic',\n",
       "       'location_Singapore', 'industry_Beverages - Soft Drinks',\n",
       "       'location_Sweden', 'industry_Building Materials',\n",
       "       'location_South Dakota; U.S.A',\n",
       "       'industry_Business Equipment & Supplies',\n",
       "       'industry_Business Services', 'industry_Coking Coal',\n",
       "       'industry_Food Distribution', 'location_South Africa',\n",
       "       'industry_Confectioners', 'industry_Consumer Electronics',\n",
       "       'industry_Financial Exchanges', 'industry_Luxury Goods',\n",
       "       'location_Ontario; Canada', 'industry_Uranium',\n",
       "       'industry_Semiconductor Memory', 'location_Israel',\n",
       "       'industry_Shell Companies', 'location_Indonesia', 'industry_Solar',\n",
       "       'location_Idaho; U.S.A', 'location_Hong Kong',\n",
       "       'location_Hawaii; U.S.A', 'industry_Textile Manufacturing',\n",
       "       'industry_Thermal Coal', 'industry_Tobacco',\n",
       "       'industry_Travel Services',\n",
       "       'industry_Utilities - Independent Power Producers',\n",
       "       'location_Italy', 'industry_Utilities - Regulated Gas',\n",
       "       'industry_Utilities - Renewable', 'location_Alaska; U.S.A',\n",
       "       'location_Alberta; Canada', 'location_Guam', 'location_Australia',\n",
       "       'location_British Columbia; Canada',\n",
       "       'location_British Virgin Islands', 'location_Greece',\n",
       "       'location_Cayman Islands', 'location_Georgia U.S.A.',\n",
       "       'location_District Of Columbia; U.S.A',\n",
       "       'industry_Savings & Cooperative Banks',\n",
       "       'industry_Real Estate - Development', 'industry_Furnishings',\n",
       "       'industry_Lumber & Wood Production', 'industry_Gold',\n",
       "       'industry_Healthcare Plans', 'industry_Home Improvement Retail',\n",
       "       'location_New Mexico; U.S.A', 'industry_Infrastructure Operations',\n",
       "       'location_New Hampshire; U.S.A',\n",
       "       'industry_Insurance - Reinsurance',\n",
       "       'industry_Insurance - Specialty', 'industry_Insurance Brokers',\n",
       "       'location_Netherlands', 'industry_Lodging',\n",
       "       'industry_Long-Term Care Facilities', 'location_Denmark',\n",
       "       'location_West Virginia; U.S.A', 'industry_Media - Diversified',\n",
       "       'location_Nebraska; U.S.A', 'industry_Medical Distribution',\n",
       "       'industry_Metal Fabrication', 'industry_Oil & Gas Drilling',\n",
       "       'industry_Oil & Gas Integrated', 'location_Malaysia',\n",
       "       'location_Luxembourg', 'industry_Pharmaceutical Retailers',\n",
       "       'industry_Pollution & Treatment Controls', 'industry_Publishing',\n",
       "       'industry_REIT - Specialty', 'industry_Railroads'], dtype=object)"
      ]
     },
     "execution_count": 14,
     "metadata": {},
     "output_type": "execute_result"
    }
   ],
   "source": [
    "#prepare and view feature importances\n",
    "importance = best_random.feature_importances_\n",
    "features = np.array(selected_features.columns)\n",
    "sorted_importance = importance.argsort()[::-1]\n",
    "features[sorted_importance]"
   ]
  },
  {
   "cell_type": "code",
   "execution_count": 15,
   "metadata": {},
   "outputs": [
    {
     "data": {
      "image/png": "[encoded data removed]",
      "text/plain": [
       "<Figure size 360x432 with 1 Axes>"
      ]
     },
     "metadata": {
      "needs_background": "light"
     },
     "output_type": "display_data"
    }
   ],
   "source": [
    "#visualize feature importances\n",
    "fig, ax = plt.subplots(figsize=(5,6))\n",
    "\n",
    "ax.barh(features[sorted_importance][:25], importance[sorted_importance][:25])\n",
    "ax.set_title('Random Forest Feature Importance')\n",
    "ax.set_xlabel('Feature Importance')\n",
    "ax.set_ylabel('Feature');"
   ]
  },
  {
   "cell_type": "code",
   "execution_count": 16,
   "metadata": {},
   "outputs": [
    {
     "data": {
      "image/png": "[encoded data removed]",
      "text/plain": [
       "<Figure size 432x288 with 1 Axes>"
      ]
     },
     "metadata": {
      "needs_background": "light"
     },
     "output_type": "display_data"
    }
   ],
   "source": [
    "#view ROC curve\n",
    "metrics.plot_roc_curve(best_random, X_test, y_test)\n",
    "plt.show()"
   ]
  },
  {
   "cell_type": "code",
   "execution_count": 44,
   "metadata": {},
   "outputs": [
    {
     "data": {
      "text/html": [
       "<div>\n",
       "<style scoped>\n",
       "    .dataframe tbody tr th:only-of-type {\n",
       "        vertical-align: middle;\n",
       "    }\n",
       "\n",
       "    .dataframe tbody tr th {\n",
       "        vertical-align: top;\n",
       "    }\n",
       "\n",
       "    .dataframe thead th {\n",
       "        text-align: right;\n",
       "    }\n",
       "</style>\n",
       "<table border=\"1\" class=\"dataframe\">\n",
       "  <thead>\n",
       "    <tr style=\"text-align: right;\">\n",
       "      <th></th>\n",
       "      <th>index</th>\n",
       "      <th>name</th>\n",
       "      <th>firm_name</th>\n",
       "      <th>firm</th>\n",
       "      <th>predict</th>\n",
       "      <th>exchange</th>\n",
       "      <th>industry</th>\n",
       "      <th>location</th>\n",
       "      <th>scalemarketcap</th>\n",
       "      <th>scalerevenue</th>\n",
       "      <th>p_prob_1</th>\n",
       "      <th>p_prob_2</th>\n",
       "      <th>predict_bool</th>\n",
       "    </tr>\n",
       "  </thead>\n",
       "  <tbody>\n",
       "    <tr>\n",
       "      <th>5</th>\n",
       "      <td>2048</td>\n",
       "      <td>Liveperson Inc</td>\n",
       "      <td>BDO USA, LLP</td>\n",
       "      <td>Other</td>\n",
       "      <td>Big 4</td>\n",
       "      <td>NASDAQ</td>\n",
       "      <td>Software - Application</td>\n",
       "      <td>New York; U.S.A</td>\n",
       "      <td>4 - Mid</td>\n",
       "      <td>3 - Small</td>\n",
       "      <td>0.803790</td>\n",
       "      <td>0.196210</td>\n",
       "      <td>1</td>\n",
       "    </tr>\n",
       "    <tr>\n",
       "      <th>8</th>\n",
       "      <td>2351</td>\n",
       "      <td>Newtek Business Services Corp</td>\n",
       "      <td>RSM US LLP</td>\n",
       "      <td>Other</td>\n",
       "      <td>Big 4</td>\n",
       "      <td>NASDAQ</td>\n",
       "      <td>Asset Management</td>\n",
       "      <td>Florida; U.S.A</td>\n",
       "      <td>3 - Small</td>\n",
       "      <td>2 - Micro</td>\n",
       "      <td>0.610698</td>\n",
       "      <td>0.389302</td>\n",
       "      <td>1</td>\n",
       "    </tr>\n",
       "    <tr>\n",
       "      <th>22</th>\n",
       "      <td>984</td>\n",
       "      <td>Diffusion Pharmaceuticals Inc</td>\n",
       "      <td>KPMG LLP</td>\n",
       "      <td>Big 4</td>\n",
       "      <td>Other</td>\n",
       "      <td>NASDAQ</td>\n",
       "      <td>Biotechnology</td>\n",
       "      <td>Virginia; U.S.A</td>\n",
       "      <td>2 - Micro</td>\n",
       "      <td>1 - Nano</td>\n",
       "      <td>0.147817</td>\n",
       "      <td>0.852183</td>\n",
       "      <td>1</td>\n",
       "    </tr>\n",
       "    <tr>\n",
       "      <th>28</th>\n",
       "      <td>1190</td>\n",
       "      <td>Energy Transfer LP</td>\n",
       "      <td>Grant Thornton LLP</td>\n",
       "      <td>Other</td>\n",
       "      <td>Big 4</td>\n",
       "      <td>NYSE</td>\n",
       "      <td>Oil &amp; Gas Midstream</td>\n",
       "      <td>Texas; U.S.A</td>\n",
       "      <td>5 - Large</td>\n",
       "      <td>5 - Large</td>\n",
       "      <td>0.991985</td>\n",
       "      <td>0.008015</td>\n",
       "      <td>1</td>\n",
       "    </tr>\n",
       "    <tr>\n",
       "      <th>36</th>\n",
       "      <td>643</td>\n",
       "      <td>Ceco Environmental Corp</td>\n",
       "      <td>BDO USA, LLP</td>\n",
       "      <td>Other</td>\n",
       "      <td>Big 4</td>\n",
       "      <td>NASDAQ</td>\n",
       "      <td>Pollution &amp; Treatment Controls</td>\n",
       "      <td>Texas; U.S.A</td>\n",
       "      <td>3 - Small</td>\n",
       "      <td>3 - Small</td>\n",
       "      <td>0.536040</td>\n",
       "      <td>0.463960</td>\n",
       "      <td>1</td>\n",
       "    </tr>\n",
       "    <tr>\n",
       "      <th>...</th>\n",
       "      <td>...</td>\n",
       "      <td>...</td>\n",
       "      <td>...</td>\n",
       "      <td>...</td>\n",
       "      <td>...</td>\n",
       "      <td>...</td>\n",
       "      <td>...</td>\n",
       "      <td>...</td>\n",
       "      <td>...</td>\n",
       "      <td>...</td>\n",
       "      <td>...</td>\n",
       "      <td>...</td>\n",
       "      <td>...</td>\n",
       "    </tr>\n",
       "    <tr>\n",
       "      <th>743</th>\n",
       "      <td>3765</td>\n",
       "      <td>Intersect ENT Inc</td>\n",
       "      <td>Ernst &amp; Young LLP</td>\n",
       "      <td>Big 4</td>\n",
       "      <td>Other</td>\n",
       "      <td>NASDAQ</td>\n",
       "      <td>Medical Devices</td>\n",
       "      <td>California; U.S.A</td>\n",
       "      <td>3 - Small</td>\n",
       "      <td>2 - Micro</td>\n",
       "      <td>0.497039</td>\n",
       "      <td>0.502961</td>\n",
       "      <td>1</td>\n",
       "    </tr>\n",
       "    <tr>\n",
       "      <th>746</th>\n",
       "      <td>708</td>\n",
       "      <td>Seacor Holdings Inc</td>\n",
       "      <td>Grant Thornton LLP</td>\n",
       "      <td>Other</td>\n",
       "      <td>Big 4</td>\n",
       "      <td>NYSE</td>\n",
       "      <td>Oil &amp; Gas Equipment &amp; Services</td>\n",
       "      <td>Florida; U.S.A</td>\n",
       "      <td>4 - Mid</td>\n",
       "      <td>4 - Mid</td>\n",
       "      <td>0.849098</td>\n",
       "      <td>0.150902</td>\n",
       "      <td>1</td>\n",
       "    </tr>\n",
       "    <tr>\n",
       "      <th>748</th>\n",
       "      <td>1361</td>\n",
       "      <td>Fox Factory Holding Corp</td>\n",
       "      <td>Grant Thornton LLP</td>\n",
       "      <td>Other</td>\n",
       "      <td>Big 4</td>\n",
       "      <td>NASDAQ</td>\n",
       "      <td>Recreational Vehicles</td>\n",
       "      <td>Georgia; U.S.A</td>\n",
       "      <td>4 - Mid</td>\n",
       "      <td>3 - Small</td>\n",
       "      <td>0.695656</td>\n",
       "      <td>0.304344</td>\n",
       "      <td>1</td>\n",
       "    </tr>\n",
       "    <tr>\n",
       "      <th>754</th>\n",
       "      <td>2312</td>\n",
       "      <td>National American University Holdings Inc</td>\n",
       "      <td>Deloitte &amp;  Touche LLP</td>\n",
       "      <td>Big 4</td>\n",
       "      <td>Other</td>\n",
       "      <td>OTC</td>\n",
       "      <td>Education &amp; Training Services</td>\n",
       "      <td>South Dakota; U.S.A</td>\n",
       "      <td>2 - Micro</td>\n",
       "      <td>2 - Micro</td>\n",
       "      <td>0.084961</td>\n",
       "      <td>0.915039</td>\n",
       "      <td>1</td>\n",
       "    </tr>\n",
       "    <tr>\n",
       "      <th>761</th>\n",
       "      <td>1944</td>\n",
       "      <td>Kaspien Holdings Inc</td>\n",
       "      <td>KPMG LLP</td>\n",
       "      <td>Big 4</td>\n",
       "      <td>Other</td>\n",
       "      <td>NASDAQ</td>\n",
       "      <td>Specialty Retail</td>\n",
       "      <td>New York; U.S.A</td>\n",
       "      <td>3 - Small</td>\n",
       "      <td>3 - Small</td>\n",
       "      <td>0.493431</td>\n",
       "      <td>0.506569</td>\n",
       "      <td>1</td>\n",
       "    </tr>\n",
       "  </tbody>\n",
       "</table>\n",
       "<p>87 rows × 13 columns</p>\n",
       "</div>"
      ],
      "text/plain": [
       "     index                                       name               firm_name  \\\n",
       "5     2048                             Liveperson Inc            BDO USA, LLP   \n",
       "8     2351              Newtek Business Services Corp              RSM US LLP   \n",
       "22     984              Diffusion Pharmaceuticals Inc                KPMG LLP   \n",
       "28    1190                         Energy Transfer LP      Grant Thornton LLP   \n",
       "36     643                    Ceco Environmental Corp            BDO USA, LLP   \n",
       "..     ...                                        ...                     ...   \n",
       "743   3765                          Intersect ENT Inc       Ernst & Young LLP   \n",
       "746    708                        Seacor Holdings Inc      Grant Thornton LLP   \n",
       "748   1361                   Fox Factory Holding Corp      Grant Thornton LLP   \n",
       "754   2312  National American University Holdings Inc  Deloitte &  Touche LLP   \n",
       "761   1944                       Kaspien Holdings Inc                KPMG LLP   \n",
       "\n",
       "      firm predict exchange                        industry  \\\n",
       "5    Other   Big 4   NASDAQ          Software - Application   \n",
       "8    Other   Big 4   NASDAQ                Asset Management   \n",
       "22   Big 4   Other   NASDAQ                   Biotechnology   \n",
       "28   Other   Big 4     NYSE             Oil & Gas Midstream   \n",
       "36   Other   Big 4   NASDAQ  Pollution & Treatment Controls   \n",
       "..     ...     ...      ...                             ...   \n",
       "743  Big 4   Other   NASDAQ                 Medical Devices   \n",
       "746  Other   Big 4     NYSE  Oil & Gas Equipment & Services   \n",
       "748  Other   Big 4   NASDAQ           Recreational Vehicles   \n",
       "754  Big 4   Other      OTC   Education & Training Services   \n",
       "761  Big 4   Other   NASDAQ                Specialty Retail   \n",
       "\n",
       "                location scalemarketcap scalerevenue  p_prob_1  p_prob_2  \\\n",
       "5        New York; U.S.A        4 - Mid    3 - Small  0.803790  0.196210   \n",
       "8         Florida; U.S.A      3 - Small    2 - Micro  0.610698  0.389302   \n",
       "22       Virginia; U.S.A      2 - Micro     1 - Nano  0.147817  0.852183   \n",
       "28          Texas; U.S.A      5 - Large    5 - Large  0.991985  0.008015   \n",
       "36          Texas; U.S.A      3 - Small    3 - Small  0.536040  0.463960   \n",
       "..                   ...            ...          ...       ...       ...   \n",
       "743    California; U.S.A      3 - Small    2 - Micro  0.497039  0.502961   \n",
       "746       Florida; U.S.A        4 - Mid      4 - Mid  0.849098  0.150902   \n",
       "748       Georgia; U.S.A        4 - Mid    3 - Small  0.695656  0.304344   \n",
       "754  South Dakota; U.S.A      2 - Micro    2 - Micro  0.084961  0.915039   \n",
       "761      New York; U.S.A      3 - Small    3 - Small  0.493431  0.506569   \n",
       "\n",
       "     predict_bool  \n",
       "5               1  \n",
       "8               1  \n",
       "22              1  \n",
       "28              1  \n",
       "36              1  \n",
       "..            ...  \n",
       "743             1  \n",
       "746             1  \n",
       "748             1  \n",
       "754             1  \n",
       "761             1  \n",
       "\n",
       "[87 rows x 13 columns]"
      ]
     },
     "execution_count": 44,
     "metadata": {},
     "output_type": "execute_result"
    }
   ],
   "source": [
    "test['predict'] = y_pred_test\n",
    "results_df = test[['name', 'firm_name', 'firm', 'predict', 'exchange', 'industry', 'location', 'scalemarketcap', 'scalerevenue']]\n",
    "results_df.reset_index(inplace=True)\n",
    "p_prob = pd.DataFrame(best_random.predict_proba(X_test), columns=['p_prob_1', 'p_prob_2'])\n",
    "df = results_df.join(p_prob)\n",
    "df['predict_bool'] = np.where(results_df.firm == results_df.predict, 0, 1)\n",
    "df_incorrect = df[df.predict_bool == 1]\n",
    "df_incorrect"
   ]
  },
  {
   "cell_type": "code",
   "execution_count": 96,
   "metadata": {},
   "outputs": [
    {
     "name": "stdout",
     "output_type": "stream",
     "text": [
      "0.7333456627947368\n",
      "0.729148549227806\n"
     ]
    },
    {
     "name": "stderr",
     "output_type": "stream",
     "text": [
      "<ipython-input-96-ff602f13d840>:1: UserWarning: Boolean Series key will be reindexed to match DataFrame index.\n",
      "  false_pos = df_incorrect.sort_values(by=['p_prob_2'])[df_incorrect.p_prob_1 >= .5]\n"
     ]
    }
   ],
   "source": [
    "#how confident is model predicting false positives\n",
    "false_pos = df_incorrect.sort_values(by=['p_prob_2'])[df_incorrect.p_prob_1 >= .5]\n",
    "false_pos\n",
    "print(np.average(false_pos['p_prob_1']))\n",
    "print(np.median(false_pos['p_prob_1']))"
   ]
  },
  {
   "cell_type": "code",
   "execution_count": 89,
   "metadata": {},
   "outputs": [],
   "source": [
    "result = false_pos.groupby([\"firm_name\"]).agg('count').reset_index().sort_values('index')"
   ]
  },
  {
   "cell_type": "code",
   "execution_count": 88,
   "metadata": {},
   "outputs": [
    {
     "data": {
      "image/png": "[encoded data removed]",
      "text/plain": [
       "<Figure size 432x432 with 1 Axes>"
      ]
     },
     "metadata": {},
     "output_type": "display_data"
    }
   ],
   "source": [
    "sns.set_style(\"whitegrid\", {'axes.grid' : False})\n",
    "\n",
    "g = sns.catplot(\n",
    "    data=false_pos,\n",
    "    y=\"firm_name\", kind=\"count\",\n",
    "    ci=\"sd\", palette=\"dark\", alpha=.6, height=6,\n",
    "    order=result['firm_name'])\n",
    "\n",
    "g.despine(left=True)\n",
    "g.set_axis_labels(\"Number of Companies Audited\", \"Audit Firms\");"
   ]
  },
  {
   "cell_type": "code",
   "execution_count": 98,
   "metadata": {},
   "outputs": [
    {
     "name": "stdout",
     "output_type": "stream",
     "text": [
      "0.6787179446998255\n",
      "0.6449135354880978\n"
     ]
    },
    {
     "name": "stderr",
     "output_type": "stream",
     "text": [
      "<ipython-input-98-7710108c00ee>:1: UserWarning: Boolean Series key will be reindexed to match DataFrame index.\n",
      "  false_pos = df_incorrect.sort_values(by=['p_prob_2'])[df_incorrect.p_prob_1 <= .5]\n"
     ]
    }
   ],
   "source": [
    "#how confident is model predicting false negatives\n",
    "false_neg = df_incorrect.sort_values(by=['p_prob_2'])[df_incorrect.p_prob_1 <= .5]\n",
    "false_neg\n",
    "print(np.average(false_neg['p_prob_2']))\n",
    "print(np.median(false_neg['p_prob_2']))"
   ]
  },
  {
   "cell_type": "code",
   "execution_count": null,
   "metadata": {},
   "outputs": [],
   "source": [
    "filename = 'randomforest.pkl'\n",
    "pickle.dump(best_random, open(filename, 'wb'))"
   ]
  }
 ],
 "metadata": {
  "kernelspec": {
   "display_name": "Python 3",
   "language": "python",
   "name": "python3"
  },
  "language_info": {
   "codemirror_mode": {
    "name": "ipython",
    "version": 3
   },
   "file_extension": ".py",
   "mimetype": "text/x-python",
   "name": "python",
   "nbconvert_exporter": "python",
   "pygments_lexer": "ipython3",
   "version": "3.8.6"
  }
 },
 "nbformat": 4,
 "nbformat_minor": 4
}
