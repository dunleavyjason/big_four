{
 "cells": [
  {
   "cell_type": "code",
   "execution_count": 1,
   "metadata": {},
   "outputs": [],
   "source": [
    "import pandas as pd\n",
    "import numpy as np\n",
    "from sklearn.neighbors import KNeighborsClassifier\n",
    "from sklearn import metrics\n",
    "from sklearn.model_selection import cross_val_score, RandomizedSearchCV\n",
    "from sklearn.preprocessing import StandardScaler\n",
    "import matplotlib.pyplot as plt\n",
    "import seaborn as sns\n",
    "%matplotlib inline\n",
    "pd.set_option('display.max_columns', None)\n",
    "pd.set_option('display.float_format', lambda x: '%.2f' % x)\n",
    "from sklearn.metrics import confusion_matrix, classification_report\n",
    "from imblearn.over_sampling import RandomOverSampler\n",
    "import pickle"
   ]
  },
  {
   "cell_type": "code",
   "execution_count": 2,
   "metadata": {},
   "outputs": [],
   "source": [
    "#import data and define test and train datasets\n",
    "test = pd.read_pickle('test.pkl')\n",
    "train = pd.read_pickle('train.pkl')\n",
    "\n",
    "selected_features1 = train.loc[:,\"exchange_NASDAQ\":\"location_Wisconsin; U.S.A\"]\n",
    "selected_features2 = train.loc[:, \"ncfbus_abs\":\"ncfo_io\"]\n",
    "selected_features3 = train.loc[:, [\"assets\", \"capex\", \"liabilities\", \"debtusd\", \"ebitdausd\", \"netinccmnusd\", \n",
    "                                  \"equityusd\", \"revenueusd\", \"cashnequsd\", \"marketcap\", \"ev\"]]\n",
    "selected_features_j = selected_features1.join(selected_features2)\n",
    "selected_features = selected_features_j.join(selected_features3)\n",
    "\n",
    "X_train = selected_features\n",
    "y_train = train[\"firm\"]\n",
    "\n",
    "selected_features1 = test.loc[:,\"exchange_NASDAQ\":\"location_Wisconsin; U.S.A\"]\n",
    "selected_features2 = test.loc[:, \"ncfbus_abs\":\"ncfo_io\"]\n",
    "selected_features3 = test.loc[:, [\"assets\", \"capex\", \"liabilities\", \"debtusd\", \"ebitdausd\", \"netinccmnusd\", \n",
    "                                  \"equityusd\", \"revenueusd\", \"cashnequsd\", \"marketcap\", \"ev\"]]\n",
    "selected_features_j = selected_features1.join(selected_features2)\n",
    "selected_features = selected_features_j.join(selected_features3)\n",
    "\n",
    "X_test = selected_features\n",
    "y_test = test[\"firm\"]"
   ]
  },
  {
   "cell_type": "code",
   "execution_count": 3,
   "metadata": {},
   "outputs": [],
   "source": [
    "#scale data\n",
    "scaler = StandardScaler()\n",
    "X_train = scaler.fit_transform(X_train)\n",
    "X_test = scaler.transform(X_test)"
   ]
  },
  {
   "cell_type": "code",
   "execution_count": 4,
   "metadata": {},
   "outputs": [
    {
     "data": {
      "text/plain": [
       "RandomizedSearchCV(cv=5, estimator=KNeighborsClassifier(),\n",
       "                   param_distributions={'n_neighbors': [1, 2, 3, 4, 5, 6, 7, 8,\n",
       "                                                        9, 10, 11, 12, 13, 14,\n",
       "                                                        15, 16, 17, 18, 19, 20,\n",
       "                                                        21, 22, 23, 24, 25, 26,\n",
       "                                                        27, 28, 29],\n",
       "                                        'weights': ['uniform', 'distance']},\n",
       "                   random_state=42, scoring='accuracy')"
      ]
     },
     "execution_count": 4,
     "metadata": {},
     "output_type": "execute_result"
    }
   ],
   "source": [
    "#hyperparameter tune and fit model\n",
    "knn = KNeighborsClassifier()\n",
    "k_range = list(range(1, 30))\n",
    "weight_options = ['uniform', 'distance']\n",
    "param_dist = dict(n_neighbors=k_range, weights=weight_options)\n",
    "rand = RandomizedSearchCV(knn, param_dist, cv=5, scoring='accuracy', n_iter=10, random_state=42)\n",
    "rand.fit(X_train, y_train)"
   ]
  },
  {
   "cell_type": "code",
   "execution_count": 5,
   "metadata": {},
   "outputs": [
    {
     "data": {
      "text/plain": [
       "{'weights': 'uniform', 'n_neighbors': 24}"
      ]
     },
     "execution_count": 5,
     "metadata": {},
     "output_type": "execute_result"
    }
   ],
   "source": [
    "#view best parameters\n",
    "rand.best_params_"
   ]
  },
  {
   "cell_type": "code",
   "execution_count": 6,
   "metadata": {
    "scrolled": true
   },
   "outputs": [
    {
     "name": "stdout",
     "output_type": "stream",
     "text": [
      "0.6954248366013072\n",
      "0.6710182767624021\n"
     ]
    }
   ],
   "source": [
    "#view accuracy scores - training and test data\n",
    "print(rand.best_score_)\n",
    "print(rand.score(X_test, y_test))"
   ]
  },
  {
   "cell_type": "code",
   "execution_count": 7,
   "metadata": {},
   "outputs": [
    {
     "name": "stdout",
     "output_type": "stream",
     "text": [
      "Classification Report:\n",
      "              precision    recall  f1-score   support\n",
      "\n",
      "       Big 4       0.69      0.81      0.75       463\n",
      "       Other       0.61      0.45      0.52       303\n",
      "\n",
      "    accuracy                           0.67       766\n",
      "   macro avg       0.65      0.63      0.64       766\n",
      "weighted avg       0.66      0.67      0.66       766\n",
      "\n"
     ]
    }
   ],
   "source": [
    "#view classification report\n",
    "y_pred_test = rand.predict(X_test)\n",
    "result1 = classification_report(y_test, y_pred_test)\n",
    "print(\"Classification Report:\",)\n",
    "print(result1)"
   ]
  },
  {
   "cell_type": "code",
   "execution_count": 8,
   "metadata": {},
   "outputs": [
    {
     "data": {
      "image/png": "[encoded data removed]",
      "text/plain": [
       "<Figure size 480x320 with 2 Axes>"
      ]
     },
     "metadata": {
      "needs_background": "light"
     },
     "output_type": "display_data"
    }
   ],
   "source": [
    "# print confusion matrix for kNN\n",
    "knn_confusion = confusion_matrix(y_test, y_pred_test)\n",
    "plt.figure(dpi=80)\n",
    "sns.heatmap(knn_confusion, cmap=plt.cm.Blues, annot=True, square=True, fmt='g',\n",
    "           xticklabels=['Big 4', 'Other'],\n",
    "           yticklabels=['Big 4', 'Other'])\n",
    "\n",
    "plt.xlabel('Predicted')\n",
    "plt.ylabel('Actual')\n",
    "plt.title('kNN confusion matrix');"
   ]
  },
  {
   "cell_type": "code",
   "execution_count": 9,
   "metadata": {},
   "outputs": [
    {
     "data": {
      "image/png": "[encoded data removed]",
      "text/plain": [
       "<Figure size 432x288 with 1 Axes>"
      ]
     },
     "metadata": {
      "needs_background": "light"
     },
     "output_type": "display_data"
    }
   ],
   "source": [
    "#view ROC curve\n",
    "metrics.plot_roc_curve(rand, X_test, y_test)\n",
    "plt.show()"
   ]
  },
  {
   "cell_type": "code",
   "execution_count": 11,
   "metadata": {},
   "outputs": [],
   "source": [
    "filename = 'knn.pkl'\n",
    "pickle.dump(rand, open(filename, 'wb'))"
   ]
  }
 ],
 "metadata": {
  "kernelspec": {
   "display_name": "Python 3",
   "language": "python",
   "name": "python3"
  },
  "language_info": {
   "codemirror_mode": {
    "name": "ipython",
    "version": 3
   },
   "file_extension": ".py",
   "mimetype": "text/x-python",
   "name": "python",
   "nbconvert_exporter": "python",
   "pygments_lexer": "ipython3",
   "version": "3.8.6"
  }
 },
 "nbformat": 4,
 "nbformat_minor": 4
}
